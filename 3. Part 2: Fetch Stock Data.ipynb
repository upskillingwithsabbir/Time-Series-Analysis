{
 "cells": [
  {
   "cell_type": "markdown",
   "id": "51889a43",
   "metadata": {},
   "source": [
    "# Class 1: Introduction to the Basics of Time Series Analysis"
   ]
  },
  {
   "cell_type": "markdown",
   "id": "724fd635",
   "metadata": {},
   "source": [
    "This notebook covers the fundamental concepts of Time Series Analysis. We will explore data preprocessing, smoothing techniques, decomposition, stationarity, and the tools used to identify model orders using Python."
   ]
  },
  {
   "cell_type": "markdown",
   "id": "ddc4f557",
   "metadata": {},
   "source": [
    "## 0. Setup and Imports"
   ]
  },
  {
   "cell_type": "code",
   "execution_count": null,
   "id": "4214c96c",
   "metadata": {},
   "outputs": [],
   "source": [
    "\n",
    "# Import necessary libraries\n",
    "import numpy as np\n",
    "import pandas as pd\n",
    "import matplotlib.pyplot as plt\n",
    "import yfinance as yf\n",
    "import warnings\n",
    "from statsmodels.tsa.seasonal import seasonal_decompose\n",
    "from statsmodels.tsa.stattools import adfuller\n",
    "from statsmodels.graphics.tsaplots import plot_acf, plot_pacf\n",
    "from statsmodels.tsa.holtwinters import ExponentialSmoothing\n",
    "\n",
    "# Suppress warnings for cleaner output\n",
    "warnings.filterwarnings('ignore')\n",
    "\n",
    "# Set plotting style\n",
    "plt.style.use('seaborn-v0_8')\n",
    "plt.rcParams['figure.figsize'] = (14, 7)\n",
    "plt.rcParams['axes.grid'] = True\n"
   ]
  },
  {
   "cell_type": "markdown",
   "id": "def9d5f4",
   "metadata": {},
   "source": [
    "## 1. Loading and Preprocessing Time Series Data"
   ]
  },
  {
   "cell_type": "code",
   "execution_count": null,
   "id": "9daed49b",
   "metadata": {},
   "outputs": [],
   "source": [
    "\n",
    "# Download 10 years of Apple stock data\n",
    "start_date = '2015-01-01'\n",
    "end_date = '2025-01-01'\n",
    "ticker = 'AAPL'\n",
    "\n",
    "# Fetch data using yfinance\n",
    "df = yf.download(ticker, start=start_date, end=end_date)\n",
    "print(f\"Downloaded {ticker} stock data from {start_date} to {end_date}\")\n",
    "print(f\"Shape of data: {df.shape}\")\n",
    "\n",
    "# Display the first few rows\n",
    "print(\"\\nFirst 5 rows of the data:\")\n",
    "display(df.head())\n",
    "\n",
    "# We'll focus on the 'Adj Close' price for our analysis\n",
    "ts = df['Adj Close']\n",
    "print(f\"\\nFocusing on Adjusted Close price for {ticker}\")\n",
    "\n",
    "# Basic statistics\n",
    "print(\"\\nBasic statistics of the time series:\")\n",
    "display(ts.describe())\n",
    "\n",
    "# Plot the raw time series\n",
    "plt.figure(figsize=(14, 7))\n",
    "plt.plot(ts, label=f'{ticker} Adj Close Price')\n",
    "plt.title(f'{ticker} Stock Price (Adjusted Close)')\n",
    "plt.xlabel('Date')\n",
    "plt.ylabel('Price ($)')\n",
    "plt.legend()\n",
    "plt.tight_layout()\n",
    "plt.savefig('plot_01_raw_data.png')\n",
    "plt.show()\n"
   ]
  }
 ],
 "metadata": {},
 "nbformat": 4,
 "nbformat_minor": 5
}
