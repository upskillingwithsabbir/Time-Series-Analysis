{
 "cells": [
  {
   "cell_type": "markdown",
   "id": "2b82658e",
   "metadata": {},
   "source": [
    "# Class 1: Introduction to the Basics of Time Series Analysis"
   ]
  },
  {
   "cell_type": "markdown",
   "id": "bcca91cb",
   "metadata": {},
   "source": [
    "This notebook covers the fundamental concepts of Time Series Analysis. We will explore data preprocessing, smoothing techniques, decomposition, stationarity, and the tools used to identify model orders using Python."
   ]
  },
  {
   "cell_type": "markdown",
   "id": "f397af41",
   "metadata": {},
   "source": [
    "## 0. Setup and Imports"
   ]
  },
  {
   "cell_type": "code",
   "execution_count": null,
   "id": "a20e528a",
   "metadata": {},
   "outputs": [],
   "source": [
    "# Class 1: Introduction to the Basics of Time Series Analysis - Python Demonstrations\n",
    "\n",
    "import pandas as pd\n",
    "import numpy as np\n",
    "import matplotlib.pyplot as plt\n",
    "from statsmodels.tsa.seasonal import seasonal_decompose\n",
    "from statsmodels.tsa.stattools import adfuller\n",
    "from statsmodels.graphics.tsaplots import plot_acf, plot_pacf\n",
    "from statsmodels.tsa.holtwinters import SimpleExpSmoothing, Holt, ExponentialSmoothing\n",
    "import warnings\n",
    "\n",
    "warnings.filterwarnings(\"ignore\") # Ignore harmless warnings"
   ]
  },
  {
   "cell_type": "markdown",
   "id": "18112a45",
   "metadata": {},
   "source": [
    "## Additional Code Demonstrations\n",
    "\n",
    "(The following code blocks were present in the demonstration script but did not directly map to a specific concept number above.)"
   ]
  },
  {
   "cell_type": "markdown",
   "id": "005cf38f",
   "metadata": {},
   "source": [
    "### 1. Load and Initial Preprocessing"
   ]
  },
  {
   "cell_type": "code",
   "execution_count": null,
   "id": "de365875",
   "metadata": {},
   "outputs": [],
   "source": [
    "print(\"--- 1. Loading and Preprocessing Data ---\")\n",
    "data_file = \"/home/ubuntu/aapl_stock_data_10y.csv\"\n",
    "df = pd.read_csv(data_file, index_col='Date', parse_dates=True)\n",
    "\n",
    "# Select Adjusted Close price\n",
    "ts = df['Adj Close'].copy()\n",
    "\n",
    "# Check for missing values (should be none after fetch script)\n",
    "print(f\"Missing values: {ts.isnull().sum()}\")\n",
    "\n",
    "# Plot the raw time series\n",
    "plt.figure(figsize=(12, 6))\n",
    "plt.plot(ts)\n",
    "plt.title('AAPL Adjusted Close Price (10 Years)')\n",
    "plt.xlabel('Date')\n",
    "plt.ylabel('Price (USD)')\n",
    "plt.grid(True)\n",
    "plt.savefig(\"/home/ubuntu/plot_01_raw_data.png\")\n",
    "plt.close()\n",
    "print(\"Saved plot: plot_01_raw_data.png\")"
   ]
  },
  {
   "cell_type": "markdown",
   "id": "7e393d12",
   "metadata": {},
   "source": [
    "### 2. Moving Averages"
   ]
  },
  {
   "cell_type": "code",
   "execution_count": null,
   "id": "3c2e65d4",
   "metadata": {},
   "outputs": [],
   "source": [
    "print(\"\\n--- 2. Calculating Moving Averages ---\")\n",
    "# Calculate 50-day and 200-day Simple Moving Averages (SMA)\n",
    "rolling_mean_50 = ts.rolling(window=50).mean()\n",
    "rolling_mean_200 = ts.rolling(window=200).mean()\n",
    "\n",
    "# Plot the data with moving averages\n",
    "plt.figure(figsize=(12, 6))\n",
    "plt.plot(ts, label='Adj Close')\n",
    "plt.plot(rolling_mean_50, label='50-Day SMA', color='orange')\n",
    "plt.plot(rolling_mean_200, label='200-Day SMA', color='red')\n",
    "plt.title('AAPL Adj Close with 50 & 200 Day Moving Averages')\n",
    "plt.xlabel('Date')\n",
    "plt.ylabel('Price (USD)')\n",
    "plt.legend()\n",
    "plt.grid(True)\n",
    "plt.savefig(\"/home/ubuntu/plot_02_moving_averages.png\")\n",
    "plt.close()\n",
    "print(\"Saved plot: plot_02_moving_averages.png\")"
   ]
  },
  {
   "cell_type": "markdown",
   "id": "c9447a5d",
   "metadata": {},
   "source": [
    "### 3. Exponential Smoothing"
   ]
  },
  {
   "cell_type": "code",
   "execution_count": null,
   "id": "b16105e3",
   "metadata": {},
   "outputs": [],
   "source": [
    "print(\"\\n--- 3. Applying Exponential Smoothing ---\")\n",
    "# Simple Exponential Smoothing (SES)\n",
    "# Note: SES is best for data without trend/seasonality, applying here for demonstration\n",
    "ses_model = SimpleExpSmoothing(ts).fit(smoothing_level=0.2)\n",
    "ses_fitted = ses_model.fittedvalues\n",
    "\n",
    "# Holt's Linear Trend\n",
    "holt_model = Holt(ts).fit()\n",
    "holt_fitted = holt_model.fittedvalues\n",
    "\n",
    "# Holt-Winters Seasonal Smoothing\n",
    "# Note: Daily stock data might not have strong yearly seasonality, using 252 trading days as approx period\n",
    "# Using additive trend and multiplicative seasonality as an example\n",
    "hw_model = ExponentialSmoothing(ts, trend='add', seasonal='mul', seasonal_periods=252).fit()\n",
    "hw_fitted = hw_model.fittedvalues\n",
    "\n",
    "# Plotting Smoothing Results (Example: Holt's)\n",
    "plt.figure(figsize=(12, 6))\n",
    "plt.plot(ts, label='Original Adj Close')\n",
    "plt.plot(holt_fitted, label='Holt\\'s Linear Trend Fit', color='red')\n",
    "plt.title('AAPL Adj Close with Holt\\'s Linear Trend Smoothing')\n",
    "plt.xlabel('Date')\n",
    "plt.ylabel('Price (USD)')\n",
    "plt.legend()\n",
    "plt.grid(True)\n",
    "plt.savefig(\"/home/ubuntu/plot_03_holt_smoothing.png\")\n",
    "plt.close()\n",
    "print(\"Saved plot: plot_03_holt_smoothing.png\")\n",
    "# Note: Could plot SES and HW similarly if needed for lecture"
   ]
  },
  {
   "cell_type": "markdown",
   "id": "290784db",
   "metadata": {},
   "source": [
    "### 4. Decomposition"
   ]
  },
  {
   "cell_type": "code",
   "execution_count": null,
   "id": "8bd81d5b",
   "metadata": {},
   "outputs": [],
   "source": [
    "print(\"\\n--- 4. Decomposing Time Series ---\")\n",
    "# Using multiplicative model as stock prices often exhibit multiplicative seasonality/trends\n",
    "# Using period=252 for approximate annual seasonality in trading days\n",
    "decomposition_result = seasonal_decompose(ts, model='multiplicative', period=252)\n",
    "\n",
    "trend = decomposition_result.trend\n",
    "seasonal = decomposition_result.seasonal\n",
    "residual = decomposition_result.resid\n",
    "\n",
    "# Plot decomposition\n",
    "plt.figure(figsize=(12, 8))\n",
    "plt.subplot(411)\n",
    "plt.plot(ts, label='Original')\n",
    "plt.legend(loc='upper left')\n",
    "plt.subplot(412)\n",
    "plt.plot(trend, label='Trend')\n",
    "plt.legend(loc='upper left')\n",
    "plt.subplot(413)\n",
    "plt.plot(seasonal, label='Seasonality')\n",
    "plt.legend(loc='upper left')\n",
    "plt.subplot(414)\n",
    "plt.plot(residual, label='Residuals')\n",
    "plt.legend(loc='upper left')\n",
    "plt.tight_layout()\n",
    "plt.suptitle('Multiplicative Decomposition (Period=252)', y=1.02)\n",
    "plt.savefig(\"/home/ubuntu/plot_04_decomposition.png\")\n",
    "plt.close()\n",
    "print(\"Saved plot: plot_04_decomposition.png\")"
   ]
  },
  {
   "cell_type": "markdown",
   "id": "a1075c06",
   "metadata": {},
   "source": [
    "### 5. Stationarity Check (Visual + ADF Test)"
   ]
  },
  {
   "cell_type": "code",
   "execution_count": null,
   "id": "32ba6acf",
   "metadata": {},
   "outputs": [],
   "source": [
    "print(\"\\n--- 5. Checking for Stationarity ---\")\n",
    "# Visual check: Rolling statistics\n",
    "rolling_mean = ts.rolling(window=252).mean()\n",
    "rolling_std = ts.rolling(window=252).std()\n",
    "\n",
    "plt.figure(figsize=(12, 6))\n",
    "plt.plot(ts, color='blue', label='Original')\n",
    "plt.plot(rolling_mean, color='red', label='Rolling Mean (252 days)')\n",
    "plt.plot(rolling_std, color='black', label='Rolling Std Dev (252 days)')\n",
    "plt.legend(loc='best')\n",
    "plt.title('Rolling Mean & Standard Deviation')\n",
    "plt.grid(True)\n",
    "plt.savefig(\"/home/ubuntu/plot_05_rolling_stats.png\")\n",
    "plt.close()\n",
    "print(\"Saved plot: plot_05_rolling_stats.png\")\n",
    "print(\"Visual inspection: Mean is clearly trending upwards, indicating non-stationarity.\")\n",
    "\n",
    "# Augmented Dickey-Fuller (ADF) Test\n",
    "print(\"\\nPerforming Augmented Dickey-Fuller Test on original series:\")\n",
    "adf_result = adfuller(ts.dropna()) # dropna just in case\n",
    "print(f'ADF Statistic: {adf_result[0]:.4f}')\n",
    "print(f'p-value: {adf_result[1]:.4f}')\n",
    "print('Critical Values:')\n",
    "for key, value in adf_result[4].items():\n",
    "    print(f'{key:>8}: {value:.4f}')\n",
    "\n",
    "if adf_result[1] <= 0.05:\n",
    "    print(\"Result: Reject the null hypothesis (H0). Series is likely stationary.\")\n",
    "else:\n",
    "    print(\"Result: Fail to reject the null hypothesis (H0). Series is likely non-stationary.\")\n",
    "\n",
    "# Try differencing once to achieve stationarity\n",
    "ts_diff = ts.diff().dropna()\n",
    "\n",
    "print(\"\\nPerforming Augmented Dickey-Fuller Test on first-differenced series:\")\n",
    "adf_result_diff = adfuller(ts_diff)\n",
    "print(f'ADF Statistic: {adf_result_diff[0]:.4f}')\n",
    "print(f'p-value: {adf_result_diff[1]:.4f}')\n",
    "print('Critical Values:')\n",
    "for key, value in adf_result_diff[4].items():\n",
    "    print(f'{key:>8}: {value:.4f}')\n",
    "\n",
    "if adf_result_diff[1] <= 0.05:\n",
    "    print(\"Result: Reject the null hypothesis (H0). Differenced series is likely stationary.\")\n",
    "else:\n",
    "    print(\"Result: Fail to reject the null hypothesis (H0). Differenced series is likely non-stationary.\")\n",
    "\n",
    "# Plot differenced series\n",
    "plt.figure(figsize=(12, 6))\n",
    "plt.plot(ts_diff)\n",
    "plt.title('AAPL Adjusted Close Price (First Difference)')\n",
    "plt.xlabel('Date')\n",
    "plt.ylabel('Price Difference')\n",
    "plt.grid(True)\n",
    "plt.savefig(\"/home/ubuntu/plot_06_differenced_data.png\")\n",
    "plt.close()\n",
    "print(\"Saved plot: plot_06_differenced_data.png\")"
   ]
  },
  {
   "cell_type": "markdown",
   "id": "14bf3731",
   "metadata": {},
   "source": [
    "### 6. ACF and PACF Plots"
   ]
  },
  {
   "cell_type": "code",
   "execution_count": null,
   "id": "2e055ae0",
   "metadata": {},
   "outputs": [],
   "source": [
    "print(\"\\n--- 6. Plotting ACF and PACF ---\")\n",
    "# Plot ACF and PACF for the original series\n",
    "fig, axes = plt.subplots(1, 2, figsize=(16, 4))\n",
    "plot_acf(ts, ax=axes[0], lags=40, title='ACF - Original Series')\n",
    "plot_pacf(ts, ax=axes[1], lags=40, title='PACF - Original Series')\n",
    "plt.tight_layout()\n",
    "plt.savefig(\"/home/ubuntu/plot_07_acf_pacf_original.png\")\n",
    "plt.close()\n",
    "print(\"Saved plot: plot_07_acf_pacf_original.png\")\n",
    "print(\"ACF for original series shows slow decay, typical of non-stationary data.\")\n",
    "\n",
    "# Plot ACF and PACF for the differenced series\n",
    "fig, axes = plt.subplots(1, 2, figsize=(16, 4))\n",
    "plot_acf(ts_diff, ax=axes[0], lags=40, title='ACF - Differenced Series')\n",
    "plot_pacf(ts_diff, ax=axes[1], lags=40, title='PACF - Differenced Series')\n",
    "plt.tight_layout()\n",
    "plt.savefig(\"/home/ubuntu/plot_08_acf_pacf_differenced.png\")\n",
    "plt.close()\n",
    "print(\"Saved plot: plot_08_acf_pacf_differenced.png\")\n",
    "print(\"ACF/PACF for differenced series can help suggest orders (p, q) for ARMA/ARIMA models.\")\n",
    "\n",
    "print(\"\\nClass 1 Demonstrations Complete.\")"
   ]
  }
 ],
 "metadata": {},
 "nbformat": 4,
 "nbformat_minor": 5
}
