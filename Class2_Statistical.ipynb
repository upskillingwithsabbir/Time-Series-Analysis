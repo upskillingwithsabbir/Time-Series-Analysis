{
 "cells": [
  {
   "cell_type": "markdown",
   "id": "18d144f7",
   "metadata": {},
   "source": [
    "# Class 2: Time Series Analysis with Statistical Modeling"
   ]
  },
  {
   "cell_type": "markdown",
   "id": "7a10e3a1",
   "metadata": {},
   "source": [
    "## Introduction and Concepts\n",
    "\n",
    "This notebook delves into statistical models commonly used for time series analysis and forecasting. We will cover AR, MA, ARMA, ARIMA, SARIMAX, and GARCH models, along with model selection criteria and diagnostic checks."
   ]
  },
  {
   "cell_type": "code",
   "execution_count": null,
   "id": "5c6f17a4",
   "metadata": {},
   "outputs": [],
   "source": [
    "import pandas as pd\n",
    "import numpy as np\n",
    "import matplotlib.pyplot as plt\n",
    "from statsmodels.tsa.arima.model import ARIMA\n",
    "from statsmodels.tsa.statespace.sarimax import SARIMAX\n",
    "import pmdarima as pm\n",
    "from arch import arch_model\n",
    "from sklearn.metrics import mean_squared_error, mean_absolute_error\n",
    "from statsmodels.graphics.tsaplots import plot_acf, plot_pacf\n",
    "from statsmodels.stats.diagnostic import acorr_ljungbox\n",
    "import warnings\n",
    "warnings.filterwarnings(\"ignore\") # Ignore harmless warnings"
   ]
  },
  {
   "cell_type": "markdown",
   "id": "efcdc3e6",
   "metadata": {},
   "source": [
    "## 2. Concept Placeholder for Section 2"
   ]
  },
  {
   "cell_type": "markdown",
   "id": "fe417447",
   "metadata": {},
   "source": [
    "*Code demonstration placeholder* \n",
    " (No specific code block found for this section)"
   ]
  },
  {
   "cell_type": "markdown",
   "id": "333a5bef",
   "metadata": {},
   "source": [
    "**Interpretation:**\n",
    "\n",
    "See Model Summaries Interpretation section."
   ]
  },
  {
   "cell_type": "markdown",
   "id": "90eb6ee0",
   "metadata": {},
   "source": [
    "## 3. Concept Placeholder for Section 3"
   ]
  },
  {
   "cell_type": "markdown",
   "id": "23d00ecf",
   "metadata": {},
   "source": [
    "*Code demonstration placeholder* \n",
    " (No specific code block found for this section)"
   ]
  },
  {
   "cell_type": "markdown",
   "id": "d0946912",
   "metadata": {},
   "source": [
    "**Interpretation:**\n",
    "\n",
    "See Model Summaries Interpretation section.\n",
    "\n",
    "*Note: Auto ARIMA failed during the prediction phase in the demonstration code.*"
   ]
  },
  {
   "cell_type": "markdown",
   "id": "70aef528",
   "metadata": {},
   "source": [
    "## 4. Concept Placeholder for Section 4"
   ]
  },
  {
   "cell_type": "markdown",
   "id": "5c429200",
   "metadata": {},
   "source": [
    "*Code demonstration placeholder* \n",
    " (No specific code block found for this section)"
   ]
  },
  {
   "cell_type": "markdown",
   "id": "a2d0542d",
   "metadata": {},
   "source": [
    "**Interpretation:**\n",
    "\n",
    "See Model Summaries Interpretation section."
   ]
  },
  {
   "cell_type": "markdown",
   "id": "a7aac836",
   "metadata": {},
   "source": [
    "## 5. Concept Placeholder for Section 5"
   ]
  },
  {
   "cell_type": "markdown",
   "id": "fd0a4f17",
   "metadata": {},
   "source": [
    "*Code demonstration placeholder* \n",
    " (No specific code block found for this section)"
   ]
  },
  {
   "cell_type": "markdown",
   "id": "28c20d5f",
   "metadata": {},
   "source": [
    "**Interpretation:**\n",
    "\n",
    "See Model Summaries Interpretation section."
   ]
  },
  {
   "cell_type": "markdown",
   "id": "1e8bcde1",
   "metadata": {},
   "source": [
    "## 6. Concept Placeholder for Section 6"
   ]
  },
  {
   "cell_type": "markdown",
   "id": "daa5319b",
   "metadata": {},
   "source": [
    "*Code demonstration placeholder* \n",
    " (No specific code block found for this section)"
   ]
  },
  {
   "cell_type": "markdown",
   "id": "21be7e92",
   "metadata": {},
   "source": [
    "**Interpretation:**\n",
    "\n",
    "We examined the residuals from the fitted Auto ARIMA model (ARIMA(1,1,2)) to assess its adequacy on the training data.\n",
    "\n",
    "*   **Residual Plot (`plot_13_auto_arima_residuals.png`):** The residuals appear somewhat randomly distributed around zero, without obvious trends or strong patterns, which is desirable.\n",
    "*   **ACF/PACF Plots (`plot_14_residual_acf_pacf.png`):** Ideally, the ACF and PACF plots of the residuals should show no significant spikes outside the confidence bands for all lags greater than 0. While many spikes are within the bands, there might be a few borderline or slightly significant spikes, suggesting some autocorrelation might remain.\n",
    "*   **Ljung-Box Test:** This test formally checks if the residuals are independently distributed (i.e., resemble white noise). The null hypothesis (H0) is that the residuals are independent.\n",
    "    *   The test yielded a p-value of approximately 0.011 for lags up to 20.\n",
    "    *   Since the p-value (0.011) is less than the common significance level of 0.05, we **reject the null hypothesis**. This indicates that there is significant autocorrelation remaining in the residuals, and they do not behave like white noise.\n",
    "\n",
    "**Interpretation:** The diagnostic checks, particularly the Ljung-Box test, suggest that the Auto ARIMA(1,1,2) model, while being the best fit according to AIC on the training data, did not fully capture all the temporal dependencies. There is still structure left in the residuals. This could mean a more complex model (perhaps higher orders, different differencing, or incorporating seasonality if relevant) might be needed, or that the underlying process has complexities not easily captured by standard ARIMA models."
   ]
  },
  {
   "cell_type": "markdown",
   "id": "6ac6f3df",
   "metadata": {},
   "source": [
    "## 7. Concept Placeholder for Section 7"
   ]
  },
  {
   "cell_type": "markdown",
   "id": "6f879e5d",
   "metadata": {},
   "source": [
    "*Code demonstration placeholder* \n",
    " (No specific code block found for this section)"
   ]
  },
  {
   "cell_type": "markdown",
   "id": "2602f42e",
   "metadata": {},
   "source": [
    "**Interpretation:**\n",
    "\n",
    "The primary goal of these models was to forecast the adjusted close price for the last year of the data (test set). We evaluated the forecasts using Root Mean Squared Error (RMSE) and Mean Absolute Error (MAE). Lower values indicate better accuracy.\n",
    "\n",
    "*   **ARIMA(1,1,1):**\n",
    "    *   RMSE: 35.0100\n",
    "    *   MAE: 31.5656\n",
    "*   **Auto ARIMA:**\n",
    "    *   The `pmdarima.auto_arima` function successfully identified an optimal order (1,1,2) based on the AIC criterion during its search process. However, it encountered an error (\"Input contains NaN\") during the prediction phase on the test set. This resulted in NaN values for RMSE and MAE. This failure often indicates issues with how the model handles data transformations (like differencing) at the prediction boundary or potential NaNs introduced during feature engineering (though none were explicitly added here). Further investigation would be needed in a real-world scenario (e.g., checking internal steps, trying different `pmdarima` versions or settings).\n",
    "*   **SARIMAX(1,1,1) (with Volume as Exogenous Variable):**\n",
    "    *   Since Auto ARIMA failed to provide a reliable forecast, we used the fallback order (1,1,1) for the SARIMAX model, incorporating the daily trading volume as an external predictor.\n",
    "    *   RMSE: 35.2970\n",
    "    *   MAE: 31.8694\n",
    "\n",
    "**Interpretation:**\n",
    "Comparing the successful models, the simple ARIMA(1,1,1) model performed slightly better than the SARIMAX(1,1,1) model with volume as an exogenous variable on this specific test set, having marginally lower RMSE and MAE. This suggests that, for this particular dataset and model configuration, adding volume did not improve the one-step-ahead forecast accuracy for the price itself. It is important to note that stock price forecasting is notoriously difficult, and these relatively high error values (compared to the price scale) are common. The value of exogenous variables might be more apparent in different contexts or with different modeling approaches."
   ]
  },
  {
   "cell_type": "markdown",
   "id": "be5d1c6c",
   "metadata": {},
   "source": [
    "## Overall Findings & Recommendations"
   ]
  },
  {
   "cell_type": "markdown",
   "id": "57370a6b",
   "metadata": {},
   "source": [
    "*   **Process:** The demonstration successfully walked through loading, splitting, modeling (ARIMA, Auto ARIMA, SARIMAX, GARCH), forecasting, evaluating (RMSE, MAE), and diagnosing time series models.\n",
    "*   **Stationarity:** The initial ADF test confirmed the non-stationarity of the raw price series, necessitating differencing (d=1) for ARIMA-based models.\n",
    "*   **Model Selection:** Auto ARIMA is a useful tool for automatically finding potentially good ARIMA orders based on information criteria (AIC/BIC), but it's not foolproof (as seen by the prediction failure and residual issues). Manual inspection of ACF/PACF plots remains important.\n",
    "*   **Exogenous Variables:** SARIMAX allows incorporating external factors. While Volume was statistically significant in the training fit, it didn't improve test set price forecasts here. The impact of exogenous variables can be highly context-dependent.\n",
    "*   **Volatility Modeling:** GARCH models are essential for analyzing and forecasting the *volatility* (risk) of financial returns, capturing the common phenomenon of volatility clustering.\n",
    "*   **Diagnostics:** Residual analysis is crucial. Even if a model looks good on paper (e.g., low AIC) or performs reasonably on forecasts, checking residuals (plots, Ljung-Box test) reveals if the model assumptions are met and if predictable patterns remain.\n",
    "The failure of the Auto ARIMA residuals to pass the Ljung-Box test is a key teaching point about the limitations of models and the importance of diagnostics.\n",
    "*   **Forecasting Difficulty:** Emphasize that stock price forecasting is inherently challenging due to market efficiency and noise. Simple models often perform similarly to more complex ones for point forecasts.\n",
    "*   **Next Steps (in a real project):** Investigate the Auto ARIMA prediction failure. Explore higher-order models or different structures based on residual diagnostics. Consider non-linear models or Machine Learning approaches (Class 3)."
   ]
  }
 ],
 "metadata": {},
 "nbformat": 4,
 "nbformat_minor": 5
}
